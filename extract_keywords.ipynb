{
 "cells": [
  {
   "cell_type": "markdown",
   "metadata": {},
   "source": [
    "##### This file extracts keywords from documents using TextBlob library. It can also be used to extract keywords from sentences.\n",
    "##### The doc used in below example is simulated using ChatGPT"
   ]
  },
  {
   "cell_type": "code",
   "execution_count": 4,
   "metadata": {},
   "outputs": [
    {
     "name": "stdout",
     "output_type": "stream",
     "text": [
      "Requirement already satisfied: keybert in c:\\users\\20194661\\onedrive - tu eindhoven\\projects\\mmc\\dutch_text_analytics\\.venv\\lib\\site-packages (0.8.3)\n",
      "Requirement already satisfied: pandas in c:\\users\\20194661\\onedrive - tu eindhoven\\projects\\mmc\\dutch_text_analytics\\.venv\\lib\\site-packages (2.1.1)\n",
      "Requirement already satisfied: sentence-transformers>=0.3.8 in c:\\users\\20194661\\onedrive - tu eindhoven\\projects\\mmc\\dutch_text_analytics\\.venv\\lib\\site-packages (from keybert) (2.2.2)\n",
      "Requirement already satisfied: scikit-learn>=0.22.2 in c:\\users\\20194661\\onedrive - tu eindhoven\\projects\\mmc\\dutch_text_analytics\\.venv\\lib\\site-packages (from keybert) (1.3.1)\n",
      "Requirement already satisfied: numpy>=1.18.5 in c:\\users\\20194661\\onedrive - tu eindhoven\\projects\\mmc\\dutch_text_analytics\\.venv\\lib\\site-packages (from keybert) (1.26.1)\n",
      "Requirement already satisfied: rich>=10.4.0 in c:\\users\\20194661\\onedrive - tu eindhoven\\projects\\mmc\\dutch_text_analytics\\.venv\\lib\\site-packages (from keybert) (13.6.0)\n",
      "Requirement already satisfied: python-dateutil>=2.8.2 in c:\\users\\20194661\\onedrive - tu eindhoven\\projects\\mmc\\dutch_text_analytics\\.venv\\lib\\site-packages (from pandas) (2.8.2)\n",
      "Requirement already satisfied: pytz>=2020.1 in c:\\users\\20194661\\onedrive - tu eindhoven\\projects\\mmc\\dutch_text_analytics\\.venv\\lib\\site-packages (from pandas) (2023.3.post1)\n",
      "Requirement already satisfied: tzdata>=2022.1 in c:\\users\\20194661\\onedrive - tu eindhoven\\projects\\mmc\\dutch_text_analytics\\.venv\\lib\\site-packages (from pandas) (2023.3)\n",
      "Requirement already satisfied: six>=1.5 in c:\\users\\20194661\\onedrive - tu eindhoven\\projects\\mmc\\dutch_text_analytics\\.venv\\lib\\site-packages (from python-dateutil>=2.8.2->pandas) (1.16.0)\n",
      "Requirement already satisfied: markdown-it-py>=2.2.0 in c:\\users\\20194661\\onedrive - tu eindhoven\\projects\\mmc\\dutch_text_analytics\\.venv\\lib\\site-packages (from rich>=10.4.0->keybert) (3.0.0)\n",
      "Requirement already satisfied: pygments<3.0.0,>=2.13.0 in c:\\users\\20194661\\onedrive - tu eindhoven\\projects\\mmc\\dutch_text_analytics\\.venv\\lib\\site-packages (from rich>=10.4.0->keybert) (2.16.1)\n",
      "Requirement already satisfied: scipy>=1.5.0 in c:\\users\\20194661\\onedrive - tu eindhoven\\projects\\mmc\\dutch_text_analytics\\.venv\\lib\\site-packages (from scikit-learn>=0.22.2->keybert) (1.11.3)\n",
      "Requirement already satisfied: joblib>=1.1.1 in c:\\users\\20194661\\onedrive - tu eindhoven\\projects\\mmc\\dutch_text_analytics\\.venv\\lib\\site-packages (from scikit-learn>=0.22.2->keybert) (1.3.2)\n",
      "Requirement already satisfied: threadpoolctl>=2.0.0 in c:\\users\\20194661\\onedrive - tu eindhoven\\projects\\mmc\\dutch_text_analytics\\.venv\\lib\\site-packages (from scikit-learn>=0.22.2->keybert) (3.2.0)\n",
      "Requirement already satisfied: transformers<5.0.0,>=4.6.0 in c:\\users\\20194661\\onedrive - tu eindhoven\\projects\\mmc\\dutch_text_analytics\\.venv\\lib\\site-packages (from sentence-transformers>=0.3.8->keybert) (4.34.1)\n",
      "Requirement already satisfied: tqdm in c:\\users\\20194661\\onedrive - tu eindhoven\\projects\\mmc\\dutch_text_analytics\\.venv\\lib\\site-packages (from sentence-transformers>=0.3.8->keybert) (4.66.1)\n",
      "Requirement already satisfied: torch>=1.6.0 in c:\\users\\20194661\\onedrive - tu eindhoven\\projects\\mmc\\dutch_text_analytics\\.venv\\lib\\site-packages (from sentence-transformers>=0.3.8->keybert) (2.1.0)\n",
      "Requirement already satisfied: torchvision in c:\\users\\20194661\\onedrive - tu eindhoven\\projects\\mmc\\dutch_text_analytics\\.venv\\lib\\site-packages (from sentence-transformers>=0.3.8->keybert) (0.16.0)\n",
      "Requirement already satisfied: nltk in c:\\users\\20194661\\onedrive - tu eindhoven\\projects\\mmc\\dutch_text_analytics\\.venv\\lib\\site-packages (from sentence-transformers>=0.3.8->keybert) (3.8.1)\n",
      "Requirement already satisfied: sentencepiece in c:\\users\\20194661\\onedrive - tu eindhoven\\projects\\mmc\\dutch_text_analytics\\.venv\\lib\\site-packages (from sentence-transformers>=0.3.8->keybert) (0.1.99)\n",
      "Requirement already satisfied: huggingface-hub>=0.4.0 in c:\\users\\20194661\\onedrive - tu eindhoven\\projects\\mmc\\dutch_text_analytics\\.venv\\lib\\site-packages (from sentence-transformers>=0.3.8->keybert) (0.17.3)\n",
      "Requirement already satisfied: filelock in c:\\users\\20194661\\onedrive - tu eindhoven\\projects\\mmc\\dutch_text_analytics\\.venv\\lib\\site-packages (from huggingface-hub>=0.4.0->sentence-transformers>=0.3.8->keybert) (3.12.4)\n",
      "Requirement already satisfied: fsspec in c:\\users\\20194661\\onedrive - tu eindhoven\\projects\\mmc\\dutch_text_analytics\\.venv\\lib\\site-packages (from huggingface-hub>=0.4.0->sentence-transformers>=0.3.8->keybert) (2023.9.2)\n",
      "Requirement already satisfied: requests in c:\\users\\20194661\\onedrive - tu eindhoven\\projects\\mmc\\dutch_text_analytics\\.venv\\lib\\site-packages (from huggingface-hub>=0.4.0->sentence-transformers>=0.3.8->keybert) (2.31.0)\n",
      "Requirement already satisfied: pyyaml>=5.1 in c:\\users\\20194661\\onedrive - tu eindhoven\\projects\\mmc\\dutch_text_analytics\\.venv\\lib\\site-packages (from huggingface-hub>=0.4.0->sentence-transformers>=0.3.8->keybert) (6.0.1)\n",
      "Requirement already satisfied: typing-extensions>=3.7.4.3 in c:\\users\\20194661\\onedrive - tu eindhoven\\projects\\mmc\\dutch_text_analytics\\.venv\\lib\\site-packages (from huggingface-hub>=0.4.0->sentence-transformers>=0.3.8->keybert) (4.8.0)\n",
      "Requirement already satisfied: packaging>=20.9 in c:\\users\\20194661\\onedrive - tu eindhoven\\projects\\mmc\\dutch_text_analytics\\.venv\\lib\\site-packages (from huggingface-hub>=0.4.0->sentence-transformers>=0.3.8->keybert) (23.2)\n",
      "Requirement already satisfied: mdurl~=0.1 in c:\\users\\20194661\\onedrive - tu eindhoven\\projects\\mmc\\dutch_text_analytics\\.venv\\lib\\site-packages (from markdown-it-py>=2.2.0->rich>=10.4.0->keybert) (0.1.2)\n",
      "Requirement already satisfied: sympy in c:\\users\\20194661\\onedrive - tu eindhoven\\projects\\mmc\\dutch_text_analytics\\.venv\\lib\\site-packages (from torch>=1.6.0->sentence-transformers>=0.3.8->keybert) (1.12)\n",
      "Requirement already satisfied: networkx in c:\\users\\20194661\\onedrive - tu eindhoven\\projects\\mmc\\dutch_text_analytics\\.venv\\lib\\site-packages (from torch>=1.6.0->sentence-transformers>=0.3.8->keybert) (3.2)\n",
      "Requirement already satisfied: jinja2 in c:\\users\\20194661\\onedrive - tu eindhoven\\projects\\mmc\\dutch_text_analytics\\.venv\\lib\\site-packages (from torch>=1.6.0->sentence-transformers>=0.3.8->keybert) (3.1.2)\n",
      "Requirement already satisfied: colorama in c:\\users\\20194661\\onedrive - tu eindhoven\\projects\\mmc\\dutch_text_analytics\\.venv\\lib\\site-packages (from tqdm->sentence-transformers>=0.3.8->keybert) (0.4.6)\n",
      "Requirement already satisfied: regex!=2019.12.17 in c:\\users\\20194661\\onedrive - tu eindhoven\\projects\\mmc\\dutch_text_analytics\\.venv\\lib\\site-packages (from transformers<5.0.0,>=4.6.0->sentence-transformers>=0.3.8->keybert) (2023.10.3)\n",
      "Requirement already satisfied: tokenizers<0.15,>=0.14 in c:\\users\\20194661\\onedrive - tu eindhoven\\projects\\mmc\\dutch_text_analytics\\.venv\\lib\\site-packages (from transformers<5.0.0,>=4.6.0->sentence-transformers>=0.3.8->keybert) (0.14.1)\n",
      "Requirement already satisfied: safetensors>=0.3.1 in c:\\users\\20194661\\onedrive - tu eindhoven\\projects\\mmc\\dutch_text_analytics\\.venv\\lib\\site-packages (from transformers<5.0.0,>=4.6.0->sentence-transformers>=0.3.8->keybert) (0.4.0)\n",
      "Requirement already satisfied: click in c:\\users\\20194661\\onedrive - tu eindhoven\\projects\\mmc\\dutch_text_analytics\\.venv\\lib\\site-packages (from nltk->sentence-transformers>=0.3.8->keybert) (8.1.7)\n",
      "Requirement already satisfied: pillow!=8.3.*,>=5.3.0 in c:\\users\\20194661\\onedrive - tu eindhoven\\projects\\mmc\\dutch_text_analytics\\.venv\\lib\\site-packages (from torchvision->sentence-transformers>=0.3.8->keybert) (10.1.0)\n",
      "Requirement already satisfied: MarkupSafe>=2.0 in c:\\users\\20194661\\onedrive - tu eindhoven\\projects\\mmc\\dutch_text_analytics\\.venv\\lib\\site-packages (from jinja2->torch>=1.6.0->sentence-transformers>=0.3.8->keybert) (2.1.3)\n",
      "Requirement already satisfied: charset-normalizer<4,>=2 in c:\\users\\20194661\\onedrive - tu eindhoven\\projects\\mmc\\dutch_text_analytics\\.venv\\lib\\site-packages (from requests->huggingface-hub>=0.4.0->sentence-transformers>=0.3.8->keybert) (3.3.0)\n",
      "Requirement already satisfied: idna<4,>=2.5 in c:\\users\\20194661\\onedrive - tu eindhoven\\projects\\mmc\\dutch_text_analytics\\.venv\\lib\\site-packages (from requests->huggingface-hub>=0.4.0->sentence-transformers>=0.3.8->keybert) (3.4)\n",
      "Requirement already satisfied: urllib3<3,>=1.21.1 in c:\\users\\20194661\\onedrive - tu eindhoven\\projects\\mmc\\dutch_text_analytics\\.venv\\lib\\site-packages (from requests->huggingface-hub>=0.4.0->sentence-transformers>=0.3.8->keybert) (2.0.7)\n",
      "Requirement already satisfied: certifi>=2017.4.17 in c:\\users\\20194661\\onedrive - tu eindhoven\\projects\\mmc\\dutch_text_analytics\\.venv\\lib\\site-packages (from requests->huggingface-hub>=0.4.0->sentence-transformers>=0.3.8->keybert) (2023.7.22)\n",
      "Requirement already satisfied: mpmath>=0.19 in c:\\users\\20194661\\onedrive - tu eindhoven\\projects\\mmc\\dutch_text_analytics\\.venv\\lib\\site-packages (from sympy->torch>=1.6.0->sentence-transformers>=0.3.8->keybert) (1.3.0)\n",
      "Note: you may need to restart the kernel to use updated packages.\n"
     ]
    }
   ],
   "source": [
    "# Setup\n",
    "%pip install keybert pandas"
   ]
  },
  {
   "cell_type": "code",
   "execution_count": 2,
   "metadata": {},
   "outputs": [
    {
     "name": "stderr",
     "output_type": "stream",
     "text": [
      "c:\\Users\\20194661\\OneDrive - TU Eindhoven\\Projects\\MMC\\dutch_text_analytics\\.venv\\Lib\\site-packages\\tqdm\\auto.py:21: TqdmWarning: IProgress not found. Please update jupyter and ipywidgets. See https://ipywidgets.readthedocs.io/en/stable/user_install.html\n",
      "  from .autonotebook import tqdm as notebook_tqdm\n"
     ]
    }
   ],
   "source": [
    "from keybert import KeyBERT\n",
    "import pandas as pd\n",
    "\n",
    "\n",
    "doc = [\"\"\"Naam: [Naam van de Patiënt 1]\n",
    "Datum: [Datum van Rapport]\n",
    "Postoperatieve Status: De patiënt is stabiel en alert.\n",
    "Wond: Geen infectie of zwelling.\n",
    "Medicatie: [Naam van Medicatie 1] toegediend zonder allergische reacties.\n",
    "Voeding: Vloeibaar dieet, goede inname.\n",
    "Mobiliteit: Beperkte mobilisatie.\n",
    "Afspraken: Volgende wondverbandwissel op [Datum en Tijd].\n",
    "Opmerkingen: Familie geïnformeerd.\n",
    "\"\"\",\n",
    "\"\"\"Naam: [Naam van de Patiënt 2]\n",
    "Datum: [Datum van Rapport]\n",
    "Postoperatieve Status: Stabiel, matige pijn (4/10).\n",
    "Wond: Geen tekenen van infectie.\n",
    "Medicatie: [Naam van Medicatie 2] zonder bijwerkingen.\n",
    "Voeding: Gestart met vast voedsel, matige inname.\n",
    "Mobiliteit: Zittende positie bereikt.\n",
    "Afspraken: Eerste verbandwissel gepland voor morgen.\n",
    "Opmerkingen: Comfortabel, hulpvaardig.\n",
    "\"\"\"]\n",
    "kw_model = KeyBERT()\n",
    "keywords = kw_model.extract_keywords(doc, keyphrase_ngram_range=(1, 1), stop_words=None)\n",
    "result_df = {'text':[], 'tags':[]}\n",
    "for d,k in zip(doc,keywords):\n",
    "    result_df['text'].append(d),\n",
    "    result_df['tags'].append([i[0] for i in k])\n",
    "result = pd.DataFrame(result_df)\n",
    "result.to_excel('extract_keywords.xlsx')\n"
   ]
  }
 ],
 "metadata": {
  "kernelspec": {
   "display_name": ".venv",
   "language": "python",
   "name": "python3"
  },
  "language_info": {
   "codemirror_mode": {
    "name": "ipython",
    "version": 3
   },
   "file_extension": ".py",
   "mimetype": "text/x-python",
   "name": "python",
   "nbconvert_exporter": "python",
   "pygments_lexer": "ipython3",
   "version": "3.11.6"
  }
 },
 "nbformat": 4,
 "nbformat_minor": 2
}
