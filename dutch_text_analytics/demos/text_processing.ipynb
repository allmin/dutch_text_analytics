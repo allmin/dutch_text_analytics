{
 "cells": [
  {
   "cell_type": "code",
   "execution_count": 1,
   "metadata": {},
   "outputs": [
    {
     "ename": "ImportError",
     "evalue": "attempted relative import with no known parent package",
     "output_type": "error",
     "traceback": [
      "\u001b[0;31m---------------------------------------------------------------------------\u001b[0m",
      "\u001b[0;31mImportError\u001b[0m                               Traceback (most recent call last)",
      "\u001b[1;32m/mnt/c/Users/20194661/OneDrive - TU Eindhoven/Projects/MMC/dutch_text_analytics/dutch_text_analytics/demos/my_demo_text_processing.ipynb Cell 1\u001b[0m line \u001b[0;36m1\n\u001b[0;32m----> <a href='vscode-notebook-cell://wsl%2Bubuntu-20.04/mnt/c/Users/20194661/OneDrive%20-%20TU%20Eindhoven/Projects/MMC/dutch_text_analytics/dutch_text_analytics/demos/my_demo_text_processing.ipynb#W0sdnNjb2RlLXJlbW90ZQ%3D%3D?line=0'>1</a>\u001b[0m \u001b[39mfrom\u001b[39;00m \u001b[39m.\u001b[39;00m\u001b[39mdutch_text_analytics\u001b[39;00m\u001b[39m.\u001b[39;00m\u001b[39mtextanalytics\u001b[39;00m \u001b[39mimport\u001b[39;00m TextProcessing\n",
      "\u001b[0;31mImportError\u001b[0m: attempted relative import with no known parent package"
     ]
    }
   ],
   "source": [
    "from dutch_text_analytics.textanalytics import TextProcessing"
   ]
  },
  {
   "cell_type": "code",
   "execution_count": null,
   "metadata": {},
   "outputs": [],
   "source": [
    "dutch_text_processing = TextProcessing(language='nl')\n",
    "sentence = 'Ik stond op en gaf de patiënt zijn medicijnen aan'\n",
    "dutch_text_processing.display_dependency(sentence)\n",
    "sentence = dutch_text_processing.handle_seperable_verbs(sentence)\n",
    "dutch_text_processing.display_dependency(sentence)\n",
    "dutch_text_processing.highlight_pos_with_lemma_optimized(sentence)\n",
    "sentence = dutch_text_processing.lemmatise(sentence)\n",
    "dutch_text_processing.display_dependency(sentence)"
   ]
  }
 ],
 "metadata": {
  "kernelspec": {
   "display_name": ".venv",
   "language": "python",
   "name": "python3"
  },
  "language_info": {
   "codemirror_mode": {
    "name": "ipython",
    "version": 3
   },
   "file_extension": ".py",
   "mimetype": "text/x-python",
   "name": "python",
   "nbconvert_exporter": "python",
   "pygments_lexer": "ipython3",
   "version": "3.8.10"
  }
 },
 "nbformat": 4,
 "nbformat_minor": 2
}
