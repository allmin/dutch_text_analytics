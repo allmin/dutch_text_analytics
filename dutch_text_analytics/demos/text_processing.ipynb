{
 "cells": [
  {
   "cell_type": "code",
   "execution_count": null,
   "metadata": {},
   "outputs": [],
   "source": [
    "!pip install --upgrade dutch_text_analytics"
   ]
  },
  {
   "cell_type": "code",
   "execution_count": null,
   "metadata": {},
   "outputs": [],
   "source": [
    "import dutch_text_analytics.textanalytics as dta"
   ]
  },
  {
   "cell_type": "code",
   "execution_count": null,
   "metadata": {},
   "outputs": [],
   "source": [
    "dutch_text_processing = dta.TextProcessing(language='nl')\n",
    "sentence = 'Ik stond op en gaf de patiënt zijn medicijnen aan'\n",
    "dutch_text_processing.display_dependency(sentence)\n",
    "sentence = dutch_text_processing.handle_seperable_verbs(sentence)\n",
    "dutch_text_processing.display_dependency(sentence)\n",
    "dutch_text_processing.highlight_pos_with_lemma_optimized(sentence)\n",
    "sentence = dutch_text_processing.lemmatise(sentence)\n",
    "dutch_text_processing.display_dependency(sentence)"
   ]
  }
 ],
 "metadata": {
  "kernelspec": {
   "display_name": ".venv",
   "language": "python",
   "name": "python3"
  },
  "language_info": {
   "codemirror_mode": {
    "name": "ipython",
    "version": 3
   },
   "file_extension": ".py",
   "mimetype": "text/x-python",
   "name": "python",
   "nbconvert_exporter": "python",
   "pygments_lexer": "ipython3",
   "version": "3.8.10"
  }
 },
 "nbformat": 4,
 "nbformat_minor": 2
}
